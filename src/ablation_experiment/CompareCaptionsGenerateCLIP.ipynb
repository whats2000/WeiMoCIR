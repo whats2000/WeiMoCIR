{
 "cells": [
  {
   "metadata": {
    "ExecuteTime": {
     "end_time": "2024-08-29T03:22:50.436540Z",
     "start_time": "2024-08-29T03:22:47.493497Z"
    }
   },
   "cell_type": "code",
   "source": [
    "import json\n",
    "from typing import List\n",
    "\n",
    "import pandas as pd\n",
    "import torch\n",
    "from clip import tokenize\n",
    "from transformers import CLIPTextModelWithProjection, CLIPVisionModelWithProjection, CLIPImageProcessor\n",
    "\n",
    "from src.ablation_experiment.validate_notebook import fiq_val_retrieval_text_image_combinations_clip\n",
    "from src.ablation_experiment.validate_notebook_cirr import cirr_val_retrieval_text_image_combinations_clip\n",
    "from src.fashioniq_experiment.utils import get_combing_function_with_alpha\n",
    "from src.utils import device\n",
    "\n",
    "%load_ext autoreload\n",
    "%autoreload 2"
   ],
   "id": "af51e4f14f8d4d4b",
   "outputs": [],
   "execution_count": 1
  },
  {
   "metadata": {},
   "cell_type": "markdown",
   "source": "# <div style=\"font-family: 'Garamond', serif; font-size: 22px; color: #ffffff; background-color: #34568B; text-align: center; padding: 15px; border-radius: 10px; border: 2px solid #FF6F61; box-shadow: 0 6px 12px rgba(0, 0, 0, 0.3); margin-bottom: 20px;\">Step 1: Set up the experiment</div>",
   "id": "6b34e3ba439aaa4f"
  },
  {
   "metadata": {},
   "cell_type": "markdown",
   "source": "## <div style=\"font-family: 'Lucida Sans Unicode', sans-serif; font-size: 18px; color: #4A235A; background-color: #D7BDE2; text-align: left; padding: 10px; border-left: 5px solid #7D3C98; box-shadow: 0 4px 6px rgba(0, 0, 0, 0.2); margin-bottom: 10px;\">Set up the cache for the experiment</div>",
   "id": "7c2294918930c572"
  },
  {
   "metadata": {
    "collapsed": true,
    "ExecuteTime": {
     "end_time": "2024-08-29T03:22:50.460801Z",
     "start_time": "2024-08-29T03:22:50.444595Z"
    }
   },
   "cell_type": "code",
   "source": "cache = {}",
   "id": "initial_id",
   "outputs": [],
   "execution_count": 2
  },
  {
   "metadata": {},
   "cell_type": "markdown",
   "source": "## <div style=\"font-family: 'Lucida Sans Unicode', sans-serif; font-size: 18px; color: #4A235A; background-color: #D7BDE2; text-align: left; padding: 10px; border-left: 5px solid #7D3C98; box-shadow: 0 4px 6px rgba(0, 0, 0, 0.2); margin-bottom: 10px;\">Same concept as script version here</div>",
   "id": "9c64305289b9fe48"
  },
  {
   "metadata": {
    "ExecuteTime": {
     "end_time": "2024-08-29T03:22:50.610805Z",
     "start_time": "2024-08-29T03:22:50.594109Z"
    }
   },
   "cell_type": "code",
   "source": "CLIP_NAME = 'laion/CLIP-ViT-L-14-laion2B-s32B-b82K'",
   "id": "22e5d9c8c2fc4547",
   "outputs": [],
   "execution_count": 3
  },
  {
   "metadata": {
    "ExecuteTime": {
     "end_time": "2024-08-29T03:22:56.776318Z",
     "start_time": "2024-08-29T03:22:50.665875Z"
    }
   },
   "cell_type": "code",
   "source": [
    "clip_text_encoder = CLIPTextModelWithProjection.from_pretrained(CLIP_NAME, torch_dtype=torch.float32, projection_dim=768)\n",
    "clip_text_encoder = clip_text_encoder.float().to(device)\n",
    "\n",
    "print(\"clip text encoder loaded.\")\n",
    "clip_text_encoder.eval()"
   ],
   "id": "94a46a8e90581af4",
   "outputs": [
    {
     "name": "stdout",
     "output_type": "stream",
     "text": [
      "clip text encoder loaded.\n"
     ]
    },
    {
     "data": {
      "text/plain": [
       "CLIPTextModelWithProjection(\n",
       "  (text_model): CLIPTextTransformer(\n",
       "    (embeddings): CLIPTextEmbeddings(\n",
       "      (token_embedding): Embedding(49408, 768)\n",
       "      (position_embedding): Embedding(77, 768)\n",
       "    )\n",
       "    (encoder): CLIPEncoder(\n",
       "      (layers): ModuleList(\n",
       "        (0-11): 12 x CLIPEncoderLayer(\n",
       "          (self_attn): CLIPAttention(\n",
       "            (k_proj): Linear(in_features=768, out_features=768, bias=True)\n",
       "            (v_proj): Linear(in_features=768, out_features=768, bias=True)\n",
       "            (q_proj): Linear(in_features=768, out_features=768, bias=True)\n",
       "            (out_proj): Linear(in_features=768, out_features=768, bias=True)\n",
       "          )\n",
       "          (layer_norm1): LayerNorm((768,), eps=1e-05, elementwise_affine=True)\n",
       "          (mlp): CLIPMLP(\n",
       "            (activation_fn): GELUActivation()\n",
       "            (fc1): Linear(in_features=768, out_features=3072, bias=True)\n",
       "            (fc2): Linear(in_features=3072, out_features=768, bias=True)\n",
       "          )\n",
       "          (layer_norm2): LayerNorm((768,), eps=1e-05, elementwise_affine=True)\n",
       "        )\n",
       "      )\n",
       "    )\n",
       "    (final_layer_norm): LayerNorm((768,), eps=1e-05, elementwise_affine=True)\n",
       "  )\n",
       "  (text_projection): Linear(in_features=768, out_features=768, bias=False)\n",
       ")"
      ]
     },
     "execution_count": 4,
     "metadata": {},
     "output_type": "execute_result"
    }
   ],
   "execution_count": 4
  },
  {
   "metadata": {
    "ExecuteTime": {
     "end_time": "2024-08-29T03:22:58.066358Z",
     "start_time": "2024-08-29T03:22:56.860334Z"
    }
   },
   "cell_type": "code",
   "source": [
    "clip_img_encoder = CLIPVisionModelWithProjection.from_pretrained(CLIP_NAME,torch_dtype=torch.float32, projection_dim=768)\n",
    "\n",
    "clip_img_encoder = clip_img_encoder.float().to(device)\n",
    "print(\"clip img encoder loaded.\")\n",
    "clip_img_encoder.eval()"
   ],
   "id": "32f7fb2e83ce7d74",
   "outputs": [
    {
     "name": "stdout",
     "output_type": "stream",
     "text": [
      "clip img encoder loaded.\n"
     ]
    },
    {
     "data": {
      "text/plain": [
       "CLIPVisionModelWithProjection(\n",
       "  (vision_model): CLIPVisionTransformer(\n",
       "    (embeddings): CLIPVisionEmbeddings(\n",
       "      (patch_embedding): Conv2d(3, 1024, kernel_size=(14, 14), stride=(14, 14), bias=False)\n",
       "      (position_embedding): Embedding(257, 1024)\n",
       "    )\n",
       "    (pre_layrnorm): LayerNorm((1024,), eps=1e-05, elementwise_affine=True)\n",
       "    (encoder): CLIPEncoder(\n",
       "      (layers): ModuleList(\n",
       "        (0-23): 24 x CLIPEncoderLayer(\n",
       "          (self_attn): CLIPAttention(\n",
       "            (k_proj): Linear(in_features=1024, out_features=1024, bias=True)\n",
       "            (v_proj): Linear(in_features=1024, out_features=1024, bias=True)\n",
       "            (q_proj): Linear(in_features=1024, out_features=1024, bias=True)\n",
       "            (out_proj): Linear(in_features=1024, out_features=1024, bias=True)\n",
       "          )\n",
       "          (layer_norm1): LayerNorm((1024,), eps=1e-05, elementwise_affine=True)\n",
       "          (mlp): CLIPMLP(\n",
       "            (activation_fn): GELUActivation()\n",
       "            (fc1): Linear(in_features=1024, out_features=4096, bias=True)\n",
       "            (fc2): Linear(in_features=4096, out_features=1024, bias=True)\n",
       "          )\n",
       "          (layer_norm2): LayerNorm((1024,), eps=1e-05, elementwise_affine=True)\n",
       "        )\n",
       "      )\n",
       "    )\n",
       "    (post_layernorm): LayerNorm((1024,), eps=1e-05, elementwise_affine=True)\n",
       "  )\n",
       "  (visual_projection): Linear(in_features=1024, out_features=768, bias=False)\n",
       ")"
      ]
     },
     "execution_count": 5,
     "metadata": {},
     "output_type": "execute_result"
    }
   ],
   "execution_count": 5
  },
  {
   "metadata": {
    "ExecuteTime": {
     "end_time": "2024-08-29T03:22:58.184217Z",
     "start_time": "2024-08-29T03:22:58.166331Z"
    }
   },
   "cell_type": "code",
   "source": [
    "print('CLIP preprocess pipeline is used')\n",
    "preprocess = CLIPImageProcessor(\n",
    "    crop_size={'height': 224, 'width': 224},\n",
    "    do_center_crop=True,\n",
    "    do_convert_rgb=True,\n",
    "    do_normalize=True,\n",
    "    do_rescale=True,\n",
    "    do_resize=True,\n",
    "    image_mean=[0.48145466, 0.4578275, 0.40821073],\n",
    "    image_std=[0.26862954, 0.26130258, 0.27577711],\n",
    "    resample=3,\n",
    "    size={'shortest_edge': 224},\n",
    ")"
   ],
   "id": "54ac20b43a2e8b69",
   "outputs": [
    {
     "name": "stdout",
     "output_type": "stream",
     "text": [
      "CLIP preprocess pipeline is used\n"
     ]
    }
   ],
   "execution_count": 6
  },
  {
   "metadata": {
    "ExecuteTime": {
     "end_time": "2024-08-29T03:22:58.296986Z",
     "start_time": "2024-08-29T03:22:58.281694Z"
    }
   },
   "cell_type": "code",
   "source": "clip_tokenizer = tokenize",
   "id": "91b281d7472fef42",
   "outputs": [],
   "execution_count": 7
  },
  {
   "metadata": {},
   "cell_type": "markdown",
   "source": "# <div style=\"font-family: 'Garamond', serif; font-size: 22px; color: #ffffff; background-color: #34568B; text-align: center; padding: 15px; border-radius: 10px; border: 2px solid #FF6F61; box-shadow: 0 6px 12px rgba(0, 0, 0, 0.3); margin-bottom: 20px;\">Step 2: Load the MLLM generated text captions</div>",
   "id": "75ae5725572a1752"
  },
  {
   "metadata": {},
   "cell_type": "markdown",
   "source": "## <div style=\"font-family: 'Lucida Sans Unicode', sans-serif; font-size: 18px; color: #4A235A; background-color: #D7BDE2; text-align: left; padding: 10px; border-left: 5px solid #7D3C98; box-shadow: 0 4px 6px rgba(0, 0, 0, 0.2); margin-bottom: 10px;\">Load the addition text captions</div>",
   "id": "fb8114bce1dbace0"
  },
  {
   "metadata": {
    "ExecuteTime": {
     "end_time": "2024-08-29T03:22:58.607464Z",
     "start_time": "2024-08-29T03:22:58.337433Z"
    }
   },
   "cell_type": "code",
   "source": [
    "with open('../../fashionIQ_dataset/labeled_images_cir_cleaned.json', 'r') as f:\n",
    "    text_captions = json.load(f)\n",
    "    \n",
    "total_recall_list: List[List[pd.DataFrame]] = []\n",
    "\n",
    "print(f'Total number of text captions: {len(text_captions)}')"
   ],
   "id": "838d0c968d6fcf7a",
   "outputs": [
    {
     "name": "stdout",
     "output_type": "stream",
     "text": [
      "Total number of text captions: 74357\n"
     ]
    }
   ],
   "execution_count": 8
  },
  {
   "metadata": {
    "ExecuteTime": {
     "end_time": "2024-08-29T03:22:58.698949Z",
     "start_time": "2024-08-29T03:22:58.675093Z"
    }
   },
   "cell_type": "code",
   "source": [
    "with open('../../cirr_dataset/cirr_labeled_images_cir_cleaned.json', 'r') as f:\n",
    "    text_captions_cirr = json.load(f)\n",
    "\n",
    "print(f'Total number of text captions: {len(text_captions_cirr)}')"
   ],
   "id": "fb9c4d2649e2583a",
   "outputs": [
    {
     "name": "stdout",
     "output_type": "stream",
     "text": [
      "Total number of text captions: 4609\n"
     ]
    }
   ],
   "execution_count": 9
  },
  {
   "metadata": {},
   "cell_type": "markdown",
   "source": "# <div style=\"font-family: 'Garamond', serif; font-size: 22px; color: #ffffff; background-color: #34568B; text-align: center; padding: 15px; border-radius: 10px; border: 2px solid #FF6F61; box-shadow: 0 6px 12px rgba(0, 0, 0, 0.3); margin-bottom: 20px;\">Step 3: Perform retrieval on the FashionIQ dataset</div>",
   "id": "99e7660b7fce179"
  },
  {
   "metadata": {},
   "cell_type": "markdown",
   "source": "## <div style=\"font-family: 'Lucida Sans Unicode', sans-serif; font-size: 18px; color: #4A235A; background-color: #D7BDE2; text-align: left; padding: 10px; border-left: 5px solid #7D3C98; box-shadow: 0 4px 6px rgba(0, 0, 0, 0.2); margin-bottom: 10px;\">Perform retrieval on the shirt category</div>",
   "id": "5a8efc43414d05c"
  },
  {
   "metadata": {
    "ExecuteTime": {
     "end_time": "2024-08-29T03:27:27.597738Z",
     "start_time": "2024-08-29T03:22:58.732423Z"
    }
   },
   "cell_type": "code",
   "source": [
    "shirt_recall = fiq_val_retrieval_text_image_combinations_clip(\n",
    "    'shirt',\n",
    "    get_combing_function_with_alpha(0.8),\n",
    "    clip_text_encoder,\n",
    "    clip_img_encoder,\n",
    "    clip_tokenizer,\n",
    "    text_captions,\n",
    "    preprocess,\n",
    "    0.1,\n",
    "    cache,\n",
    ")"
   ],
   "id": "a0f1b60d0aecba10",
   "outputs": [
    {
     "name": "stderr",
     "output_type": "stream",
     "text": [
      "Evaluating feature combinations: 100%|██████████| 7/7 [01:28<00:00, 12.60s/it]\n"
     ]
    }
   ],
   "execution_count": 10
  },
  {
   "metadata": {
    "ExecuteTime": {
     "end_time": "2024-08-29T03:27:27.677038Z",
     "start_time": "2024-08-29T03:27:27.651021Z"
    }
   },
   "cell_type": "code",
   "source": "shirt_recall",
   "id": "96b511edd8178b1d",
   "outputs": [
    {
     "data": {
      "text/plain": [
       "   beta  recall_at10  recall_at50           Combination\n",
       "0   0.1    32.679096    49.509323             First set\n",
       "1   0.1    32.777232    48.135427            Second set\n",
       "2   0.1    32.384691    47.988224             Third set\n",
       "3   0.1    33.022571    49.018645  First and second set\n",
       "4   0.1    32.924435    47.742885  Second and third set\n",
       "5   0.1    33.071640    48.969579   First and third set\n",
       "6   0.1    32.777232    48.969579              All sets"
      ],
      "text/html": [
       "<div>\n",
       "<style scoped>\n",
       "    .dataframe tbody tr th:only-of-type {\n",
       "        vertical-align: middle;\n",
       "    }\n",
       "\n",
       "    .dataframe tbody tr th {\n",
       "        vertical-align: top;\n",
       "    }\n",
       "\n",
       "    .dataframe thead th {\n",
       "        text-align: right;\n",
       "    }\n",
       "</style>\n",
       "<table border=\"1\" class=\"dataframe\">\n",
       "  <thead>\n",
       "    <tr style=\"text-align: right;\">\n",
       "      <th></th>\n",
       "      <th>beta</th>\n",
       "      <th>recall_at10</th>\n",
       "      <th>recall_at50</th>\n",
       "      <th>Combination</th>\n",
       "    </tr>\n",
       "  </thead>\n",
       "  <tbody>\n",
       "    <tr>\n",
       "      <th>0</th>\n",
       "      <td>0.1</td>\n",
       "      <td>32.679096</td>\n",
       "      <td>49.509323</td>\n",
       "      <td>First set</td>\n",
       "    </tr>\n",
       "    <tr>\n",
       "      <th>1</th>\n",
       "      <td>0.1</td>\n",
       "      <td>32.777232</td>\n",
       "      <td>48.135427</td>\n",
       "      <td>Second set</td>\n",
       "    </tr>\n",
       "    <tr>\n",
       "      <th>2</th>\n",
       "      <td>0.1</td>\n",
       "      <td>32.384691</td>\n",
       "      <td>47.988224</td>\n",
       "      <td>Third set</td>\n",
       "    </tr>\n",
       "    <tr>\n",
       "      <th>3</th>\n",
       "      <td>0.1</td>\n",
       "      <td>33.022571</td>\n",
       "      <td>49.018645</td>\n",
       "      <td>First and second set</td>\n",
       "    </tr>\n",
       "    <tr>\n",
       "      <th>4</th>\n",
       "      <td>0.1</td>\n",
       "      <td>32.924435</td>\n",
       "      <td>47.742885</td>\n",
       "      <td>Second and third set</td>\n",
       "    </tr>\n",
       "    <tr>\n",
       "      <th>5</th>\n",
       "      <td>0.1</td>\n",
       "      <td>33.071640</td>\n",
       "      <td>48.969579</td>\n",
       "      <td>First and third set</td>\n",
       "    </tr>\n",
       "    <tr>\n",
       "      <th>6</th>\n",
       "      <td>0.1</td>\n",
       "      <td>32.777232</td>\n",
       "      <td>48.969579</td>\n",
       "      <td>All sets</td>\n",
       "    </tr>\n",
       "  </tbody>\n",
       "</table>\n",
       "</div>"
      ]
     },
     "execution_count": 11,
     "metadata": {},
     "output_type": "execute_result"
    }
   ],
   "execution_count": 11
  },
  {
   "metadata": {},
   "cell_type": "markdown",
   "source": "## <div style=\"font-family: 'Lucida Sans Unicode', sans-serif; font-size: 18px; color: #4A235A; background-color: #D7BDE2; text-align: left; padding: 10px; border-left: 5px solid #7D3C98; box-shadow: 0 4px 6px rgba(0, 0, 0, 0.2); margin-bottom: 10px;\">Perform retrieval on the dress category</div>",
   "id": "d4ab21021db7064b"
  },
  {
   "metadata": {
    "ExecuteTime": {
     "end_time": "2024-08-29T03:30:41.198610Z",
     "start_time": "2024-08-29T03:27:27.804321Z"
    }
   },
   "cell_type": "code",
   "source": [
    "dress_recall = fiq_val_retrieval_text_image_combinations_clip(\n",
    "    'dress',\n",
    "    get_combing_function_with_alpha(0.8),\n",
    "    clip_text_encoder,\n",
    "    clip_img_encoder,\n",
    "    clip_tokenizer,\n",
    "    text_captions,\n",
    "    preprocess,\n",
    "    0.1,\n",
    "    cache,\n",
    ")"
   ],
   "id": "a59ce3e3360ce5e6",
   "outputs": [
    {
     "name": "stderr",
     "output_type": "stream",
     "text": [
      "Evaluating feature combinations: 100%|██████████| 7/7 [01:20<00:00, 11.47s/it]\n"
     ]
    }
   ],
   "execution_count": 12
  },
  {
   "metadata": {
    "ExecuteTime": {
     "end_time": "2024-08-29T03:30:41.243341Z",
     "start_time": "2024-08-29T03:30:41.221711Z"
    }
   },
   "cell_type": "code",
   "source": "dress_recall",
   "id": "1813a1e5d3d6cd2c",
   "outputs": [
    {
     "data": {
      "text/plain": [
       "   beta  recall_at10  recall_at50           Combination\n",
       "0   0.1    25.582549    46.603867             First set\n",
       "1   0.1    24.144769    46.455130            Second set\n",
       "2   0.1    24.243927    46.207237             Third set\n",
       "3   0.1    26.177493    47.347546  First and second set\n",
       "4   0.1    24.987605    46.306396  Second and third set\n",
       "5   0.1    25.929597    47.198811   First and third set\n",
       "6   0.1    25.880021    47.297966              All sets"
      ],
      "text/html": [
       "<div>\n",
       "<style scoped>\n",
       "    .dataframe tbody tr th:only-of-type {\n",
       "        vertical-align: middle;\n",
       "    }\n",
       "\n",
       "    .dataframe tbody tr th {\n",
       "        vertical-align: top;\n",
       "    }\n",
       "\n",
       "    .dataframe thead th {\n",
       "        text-align: right;\n",
       "    }\n",
       "</style>\n",
       "<table border=\"1\" class=\"dataframe\">\n",
       "  <thead>\n",
       "    <tr style=\"text-align: right;\">\n",
       "      <th></th>\n",
       "      <th>beta</th>\n",
       "      <th>recall_at10</th>\n",
       "      <th>recall_at50</th>\n",
       "      <th>Combination</th>\n",
       "    </tr>\n",
       "  </thead>\n",
       "  <tbody>\n",
       "    <tr>\n",
       "      <th>0</th>\n",
       "      <td>0.1</td>\n",
       "      <td>25.582549</td>\n",
       "      <td>46.603867</td>\n",
       "      <td>First set</td>\n",
       "    </tr>\n",
       "    <tr>\n",
       "      <th>1</th>\n",
       "      <td>0.1</td>\n",
       "      <td>24.144769</td>\n",
       "      <td>46.455130</td>\n",
       "      <td>Second set</td>\n",
       "    </tr>\n",
       "    <tr>\n",
       "      <th>2</th>\n",
       "      <td>0.1</td>\n",
       "      <td>24.243927</td>\n",
       "      <td>46.207237</td>\n",
       "      <td>Third set</td>\n",
       "    </tr>\n",
       "    <tr>\n",
       "      <th>3</th>\n",
       "      <td>0.1</td>\n",
       "      <td>26.177493</td>\n",
       "      <td>47.347546</td>\n",
       "      <td>First and second set</td>\n",
       "    </tr>\n",
       "    <tr>\n",
       "      <th>4</th>\n",
       "      <td>0.1</td>\n",
       "      <td>24.987605</td>\n",
       "      <td>46.306396</td>\n",
       "      <td>Second and third set</td>\n",
       "    </tr>\n",
       "    <tr>\n",
       "      <th>5</th>\n",
       "      <td>0.1</td>\n",
       "      <td>25.929597</td>\n",
       "      <td>47.198811</td>\n",
       "      <td>First and third set</td>\n",
       "    </tr>\n",
       "    <tr>\n",
       "      <th>6</th>\n",
       "      <td>0.1</td>\n",
       "      <td>25.880021</td>\n",
       "      <td>47.297966</td>\n",
       "      <td>All sets</td>\n",
       "    </tr>\n",
       "  </tbody>\n",
       "</table>\n",
       "</div>"
      ]
     },
     "execution_count": 13,
     "metadata": {},
     "output_type": "execute_result"
    }
   ],
   "execution_count": 13
  },
  {
   "metadata": {},
   "cell_type": "markdown",
   "source": "## <div style=\"font-family: 'Lucida Sans Unicode', sans-serif; font-size: 18px; color: #4A235A; background-color: #D7BDE2; text-align: left; padding: 10px; border-left: 5px solid #7D3C98; box-shadow: 0 4px 6px rgba(0, 0, 0, 0.2); margin-bottom: 10px;\">Perform retrieval on the toptee category</div>",
   "id": "f912a96497bb2a63"
  },
  {
   "metadata": {
    "ExecuteTime": {
     "end_time": "2024-08-29T03:34:11.232419Z",
     "start_time": "2024-08-29T03:30:41.360515Z"
    }
   },
   "cell_type": "code",
   "source": [
    "toptee_recall = fiq_val_retrieval_text_image_combinations_clip(\n",
    "    'toptee',\n",
    "    get_combing_function_with_alpha(0.8),\n",
    "    clip_text_encoder,\n",
    "    clip_img_encoder,\n",
    "    clip_tokenizer,\n",
    "    text_captions,\n",
    "    preprocess,\n",
    "    0.1,\n",
    "    cache,\n",
    ")"
   ],
   "id": "b705129d0dd555ee",
   "outputs": [
    {
     "name": "stderr",
     "output_type": "stream",
     "text": [
      "Evaluating feature combinations: 100%|██████████| 7/7 [01:29<00:00, 12.76s/it]\n"
     ]
    }
   ],
   "execution_count": 14
  },
  {
   "metadata": {
    "ExecuteTime": {
     "end_time": "2024-08-29T03:34:11.280241Z",
     "start_time": "2024-08-29T03:34:11.254835Z"
    }
   },
   "cell_type": "code",
   "source": "toptee_recall",
   "id": "dda4e0a6e1f697fd",
   "outputs": [
    {
     "data": {
      "text/plain": [
       "   beta  recall_at10  recall_at50           Combination\n",
       "0   0.1    36.053035    56.348801             First set\n",
       "1   0.1    35.390106    55.940849            Second set\n",
       "2   0.1    35.900050    55.685872             Third set\n",
       "3   0.1    36.308005    56.450790  First and second set\n",
       "4   0.1    35.237125    56.297809  Second and third set\n",
       "5   0.1    36.308005    56.756759   First and third set\n",
       "6   0.1    35.951045    56.705761              All sets"
      ],
      "text/html": [
       "<div>\n",
       "<style scoped>\n",
       "    .dataframe tbody tr th:only-of-type {\n",
       "        vertical-align: middle;\n",
       "    }\n",
       "\n",
       "    .dataframe tbody tr th {\n",
       "        vertical-align: top;\n",
       "    }\n",
       "\n",
       "    .dataframe thead th {\n",
       "        text-align: right;\n",
       "    }\n",
       "</style>\n",
       "<table border=\"1\" class=\"dataframe\">\n",
       "  <thead>\n",
       "    <tr style=\"text-align: right;\">\n",
       "      <th></th>\n",
       "      <th>beta</th>\n",
       "      <th>recall_at10</th>\n",
       "      <th>recall_at50</th>\n",
       "      <th>Combination</th>\n",
       "    </tr>\n",
       "  </thead>\n",
       "  <tbody>\n",
       "    <tr>\n",
       "      <th>0</th>\n",
       "      <td>0.1</td>\n",
       "      <td>36.053035</td>\n",
       "      <td>56.348801</td>\n",
       "      <td>First set</td>\n",
       "    </tr>\n",
       "    <tr>\n",
       "      <th>1</th>\n",
       "      <td>0.1</td>\n",
       "      <td>35.390106</td>\n",
       "      <td>55.940849</td>\n",
       "      <td>Second set</td>\n",
       "    </tr>\n",
       "    <tr>\n",
       "      <th>2</th>\n",
       "      <td>0.1</td>\n",
       "      <td>35.900050</td>\n",
       "      <td>55.685872</td>\n",
       "      <td>Third set</td>\n",
       "    </tr>\n",
       "    <tr>\n",
       "      <th>3</th>\n",
       "      <td>0.1</td>\n",
       "      <td>36.308005</td>\n",
       "      <td>56.450790</td>\n",
       "      <td>First and second set</td>\n",
       "    </tr>\n",
       "    <tr>\n",
       "      <th>4</th>\n",
       "      <td>0.1</td>\n",
       "      <td>35.237125</td>\n",
       "      <td>56.297809</td>\n",
       "      <td>Second and third set</td>\n",
       "    </tr>\n",
       "    <tr>\n",
       "      <th>5</th>\n",
       "      <td>0.1</td>\n",
       "      <td>36.308005</td>\n",
       "      <td>56.756759</td>\n",
       "      <td>First and third set</td>\n",
       "    </tr>\n",
       "    <tr>\n",
       "      <th>6</th>\n",
       "      <td>0.1</td>\n",
       "      <td>35.951045</td>\n",
       "      <td>56.705761</td>\n",
       "      <td>All sets</td>\n",
       "    </tr>\n",
       "  </tbody>\n",
       "</table>\n",
       "</div>"
      ]
     },
     "execution_count": 15,
     "metadata": {},
     "output_type": "execute_result"
    }
   ],
   "execution_count": 15
  },
  {
   "metadata": {
    "ExecuteTime": {
     "end_time": "2024-08-29T03:34:11.415111Z",
     "start_time": "2024-08-29T03:34:11.395254Z"
    }
   },
   "cell_type": "code",
   "source": [
    "# Change the index to 'Combination' column\n",
    "shirt_recall.set_index('Combination', inplace=True)\n",
    "dress_recall.set_index('Combination', inplace=True)\n",
    "toptee_recall.set_index('Combination', inplace=True)"
   ],
   "id": "12cef5a9d541bbde",
   "outputs": [],
   "execution_count": 16
  },
  {
   "metadata": {
    "ExecuteTime": {
     "end_time": "2024-08-29T03:34:11.504178Z",
     "start_time": "2024-08-29T03:34:11.480604Z"
    }
   },
   "cell_type": "code",
   "source": [
    "# Average the recall values\n",
    "average_recall = (shirt_recall + dress_recall + toptee_recall) / 3\n",
    "average_recall"
   ],
   "id": "7c4aead0e821fbf",
   "outputs": [
    {
     "data": {
      "text/plain": [
       "                      beta  recall_at10  recall_at50\n",
       "Combination                                         \n",
       "First set              0.1    31.438227    50.820664\n",
       "Second set             0.1    30.770702    50.177135\n",
       "Third set              0.1    30.842889    49.960444\n",
       "First and second set   0.1    31.836023    50.938994\n",
       "Second and third set   0.1    31.049721    50.115697\n",
       "First and third set    0.1    31.769748    50.975050\n",
       "All sets               0.1    31.536099    50.991102"
      ],
      "text/html": [
       "<div>\n",
       "<style scoped>\n",
       "    .dataframe tbody tr th:only-of-type {\n",
       "        vertical-align: middle;\n",
       "    }\n",
       "\n",
       "    .dataframe tbody tr th {\n",
       "        vertical-align: top;\n",
       "    }\n",
       "\n",
       "    .dataframe thead th {\n",
       "        text-align: right;\n",
       "    }\n",
       "</style>\n",
       "<table border=\"1\" class=\"dataframe\">\n",
       "  <thead>\n",
       "    <tr style=\"text-align: right;\">\n",
       "      <th></th>\n",
       "      <th>beta</th>\n",
       "      <th>recall_at10</th>\n",
       "      <th>recall_at50</th>\n",
       "    </tr>\n",
       "    <tr>\n",
       "      <th>Combination</th>\n",
       "      <th></th>\n",
       "      <th></th>\n",
       "      <th></th>\n",
       "    </tr>\n",
       "  </thead>\n",
       "  <tbody>\n",
       "    <tr>\n",
       "      <th>First set</th>\n",
       "      <td>0.1</td>\n",
       "      <td>31.438227</td>\n",
       "      <td>50.820664</td>\n",
       "    </tr>\n",
       "    <tr>\n",
       "      <th>Second set</th>\n",
       "      <td>0.1</td>\n",
       "      <td>30.770702</td>\n",
       "      <td>50.177135</td>\n",
       "    </tr>\n",
       "    <tr>\n",
       "      <th>Third set</th>\n",
       "      <td>0.1</td>\n",
       "      <td>30.842889</td>\n",
       "      <td>49.960444</td>\n",
       "    </tr>\n",
       "    <tr>\n",
       "      <th>First and second set</th>\n",
       "      <td>0.1</td>\n",
       "      <td>31.836023</td>\n",
       "      <td>50.938994</td>\n",
       "    </tr>\n",
       "    <tr>\n",
       "      <th>Second and third set</th>\n",
       "      <td>0.1</td>\n",
       "      <td>31.049721</td>\n",
       "      <td>50.115697</td>\n",
       "    </tr>\n",
       "    <tr>\n",
       "      <th>First and third set</th>\n",
       "      <td>0.1</td>\n",
       "      <td>31.769748</td>\n",
       "      <td>50.975050</td>\n",
       "    </tr>\n",
       "    <tr>\n",
       "      <th>All sets</th>\n",
       "      <td>0.1</td>\n",
       "      <td>31.536099</td>\n",
       "      <td>50.991102</td>\n",
       "    </tr>\n",
       "  </tbody>\n",
       "</table>\n",
       "</div>"
      ]
     },
     "execution_count": 17,
     "metadata": {},
     "output_type": "execute_result"
    }
   ],
   "execution_count": 17
  },
  {
   "metadata": {},
   "cell_type": "markdown",
   "source": "# <div style=\"font-family: 'Garamond', serif; font-size: 22px; color: #ffffff; background-color: #34568B; text-align: center; padding: 15px; border-radius: 10px; border: 2px solid #FF6F61; box-shadow: 0 6px 12px rgba(0, 0, 0, 0.3); margin-bottom: 20px;\">Step 3: Perform retrieval on the CIRR dataset</div>",
   "id": "199aa5bbe0fe474d"
  },
  {
   "metadata": {
    "ExecuteTime": {
     "end_time": "2024-08-29T03:38:54.995151Z",
     "start_time": "2024-08-29T03:34:11.610568Z"
    }
   },
   "cell_type": "code",
   "source": [
    "cirr_recall = cirr_val_retrieval_text_image_combinations_clip(\n",
    "    get_combing_function_with_alpha(0.8),\n",
    "    clip_text_encoder,\n",
    "    clip_img_encoder,\n",
    "    clip_tokenizer,\n",
    "    text_captions_cirr,\n",
    "    preprocess,\n",
    "    0.1,\n",
    "    cache,\n",
    ")"
   ],
   "id": "72f821a5bb798988",
   "outputs": [
    {
     "name": "stderr",
     "output_type": "stream",
     "text": [
      "Evaluating feature combinations: 100%|██████████| 7/7 [03:18<00:00, 28.42s/it]\n"
     ]
    }
   ],
   "execution_count": 18
  },
  {
   "metadata": {
    "ExecuteTime": {
     "end_time": "2024-08-29T03:38:55.046096Z",
     "start_time": "2024-08-29T03:38:55.017272Z"
    }
   },
   "cell_type": "code",
   "source": "cirr_recall",
   "id": "c6d610c533fab2af",
   "outputs": [
    {
     "data": {
      "text/plain": [
       "   beta  recall_at1  recall_at5  recall_at10  recall_at50  group_recall_at1  \\\n",
       "0   0.1   30.255920   61.803395    74.336284    92.394161         59.315956   \n",
       "1   0.1   29.873237   61.277205    73.570913    92.178905         58.933270   \n",
       "2   0.1   29.992825   61.468548    73.570913    91.915810         59.076774   \n",
       "3   0.1   30.351591   61.922985    74.216694    92.418081         59.028941   \n",
       "4   0.1   30.184168   61.707723    73.905766    92.226738         59.196365   \n",
       "5   0.1   30.542931   62.090409    74.168861    92.322409         59.722555   \n",
       "6   0.1   30.638602   62.090409    74.144942    92.418081         59.435540   \n",
       "\n",
       "   group_recall_at2  group_recall_at3           Combination  \n",
       "0         80.100453         89.332694             First set  \n",
       "1         79.311168         89.476204            Second set  \n",
       "2         79.693854         88.997847             Third set  \n",
       "3         79.933029         89.476204  First and second set  \n",
       "4         79.789525         89.189190  Second and third set  \n",
       "5         80.220044         89.260942   First and third set  \n",
       "6         80.100453         89.428365              All sets  "
      ],
      "text/html": [
       "<div>\n",
       "<style scoped>\n",
       "    .dataframe tbody tr th:only-of-type {\n",
       "        vertical-align: middle;\n",
       "    }\n",
       "\n",
       "    .dataframe tbody tr th {\n",
       "        vertical-align: top;\n",
       "    }\n",
       "\n",
       "    .dataframe thead th {\n",
       "        text-align: right;\n",
       "    }\n",
       "</style>\n",
       "<table border=\"1\" class=\"dataframe\">\n",
       "  <thead>\n",
       "    <tr style=\"text-align: right;\">\n",
       "      <th></th>\n",
       "      <th>beta</th>\n",
       "      <th>recall_at1</th>\n",
       "      <th>recall_at5</th>\n",
       "      <th>recall_at10</th>\n",
       "      <th>recall_at50</th>\n",
       "      <th>group_recall_at1</th>\n",
       "      <th>group_recall_at2</th>\n",
       "      <th>group_recall_at3</th>\n",
       "      <th>Combination</th>\n",
       "    </tr>\n",
       "  </thead>\n",
       "  <tbody>\n",
       "    <tr>\n",
       "      <th>0</th>\n",
       "      <td>0.1</td>\n",
       "      <td>30.255920</td>\n",
       "      <td>61.803395</td>\n",
       "      <td>74.336284</td>\n",
       "      <td>92.394161</td>\n",
       "      <td>59.315956</td>\n",
       "      <td>80.100453</td>\n",
       "      <td>89.332694</td>\n",
       "      <td>First set</td>\n",
       "    </tr>\n",
       "    <tr>\n",
       "      <th>1</th>\n",
       "      <td>0.1</td>\n",
       "      <td>29.873237</td>\n",
       "      <td>61.277205</td>\n",
       "      <td>73.570913</td>\n",
       "      <td>92.178905</td>\n",
       "      <td>58.933270</td>\n",
       "      <td>79.311168</td>\n",
       "      <td>89.476204</td>\n",
       "      <td>Second set</td>\n",
       "    </tr>\n",
       "    <tr>\n",
       "      <th>2</th>\n",
       "      <td>0.1</td>\n",
       "      <td>29.992825</td>\n",
       "      <td>61.468548</td>\n",
       "      <td>73.570913</td>\n",
       "      <td>91.915810</td>\n",
       "      <td>59.076774</td>\n",
       "      <td>79.693854</td>\n",
       "      <td>88.997847</td>\n",
       "      <td>Third set</td>\n",
       "    </tr>\n",
       "    <tr>\n",
       "      <th>3</th>\n",
       "      <td>0.1</td>\n",
       "      <td>30.351591</td>\n",
       "      <td>61.922985</td>\n",
       "      <td>74.216694</td>\n",
       "      <td>92.418081</td>\n",
       "      <td>59.028941</td>\n",
       "      <td>79.933029</td>\n",
       "      <td>89.476204</td>\n",
       "      <td>First and second set</td>\n",
       "    </tr>\n",
       "    <tr>\n",
       "      <th>4</th>\n",
       "      <td>0.1</td>\n",
       "      <td>30.184168</td>\n",
       "      <td>61.707723</td>\n",
       "      <td>73.905766</td>\n",
       "      <td>92.226738</td>\n",
       "      <td>59.196365</td>\n",
       "      <td>79.789525</td>\n",
       "      <td>89.189190</td>\n",
       "      <td>Second and third set</td>\n",
       "    </tr>\n",
       "    <tr>\n",
       "      <th>5</th>\n",
       "      <td>0.1</td>\n",
       "      <td>30.542931</td>\n",
       "      <td>62.090409</td>\n",
       "      <td>74.168861</td>\n",
       "      <td>92.322409</td>\n",
       "      <td>59.722555</td>\n",
       "      <td>80.220044</td>\n",
       "      <td>89.260942</td>\n",
       "      <td>First and third set</td>\n",
       "    </tr>\n",
       "    <tr>\n",
       "      <th>6</th>\n",
       "      <td>0.1</td>\n",
       "      <td>30.638602</td>\n",
       "      <td>62.090409</td>\n",
       "      <td>74.144942</td>\n",
       "      <td>92.418081</td>\n",
       "      <td>59.435540</td>\n",
       "      <td>80.100453</td>\n",
       "      <td>89.428365</td>\n",
       "      <td>All sets</td>\n",
       "    </tr>\n",
       "  </tbody>\n",
       "</table>\n",
       "</div>"
      ]
     },
     "execution_count": 19,
     "metadata": {},
     "output_type": "execute_result"
    }
   ],
   "execution_count": 19
  }
 ],
 "metadata": {
  "kernelspec": {
   "display_name": "Python 3",
   "language": "python",
   "name": "python3"
  },
  "language_info": {
   "codemirror_mode": {
    "name": "ipython",
    "version": 2
   },
   "file_extension": ".py",
   "mimetype": "text/x-python",
   "name": "python",
   "nbconvert_exporter": "python",
   "pygments_lexer": "ipython2",
   "version": "2.7.6"
  }
 },
 "nbformat": 4,
 "nbformat_minor": 5
}

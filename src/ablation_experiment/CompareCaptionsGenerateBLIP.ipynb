{
 "cells": [
  {
   "metadata": {
    "ExecuteTime": {
     "end_time": "2024-08-29T02:36:11.008150Z",
     "start_time": "2024-08-29T02:36:07.844Z"
    }
   },
   "cell_type": "code",
   "source": [
    "import json\n",
    "from typing import List\n",
    "\n",
    "import pandas as pd\n",
    "\n",
    "from src.ablation_experiment.validate_notebook_cirr import cirr_val_retrieval_text_image_combinations\n",
    "from src.blip_modules.blip_text_encoder import BLIPTextEncoder\n",
    "from src.blip_modules.blip_img_encoder import BLIPImgEncoder\n",
    "\n",
    "from src.ablation_experiment.validate_notebook import fiq_val_retrieval_text_image_combinations\n",
    "from src.data_utils import targetpad_transform\n",
    "from src.fashioniq_experiment.utils import get_combing_function_with_alpha\n",
    "from src.utils import device\n",
    "\n",
    "%load_ext autoreload\n",
    "%autoreload 2"
   ],
   "id": "af51e4f14f8d4d4b",
   "outputs": [],
   "execution_count": 1
  },
  {
   "metadata": {},
   "cell_type": "markdown",
   "source": "# <div style=\"font-family: 'Garamond', serif; font-size: 22px; color: #ffffff; background-color: #34568B; text-align: center; padding: 15px; border-radius: 10px; border: 2px solid #FF6F61; box-shadow: 0 6px 12px rgba(0, 0, 0, 0.3); margin-bottom: 20px;\">Step 1: Set up the experiment</div>",
   "id": "6b34e3ba439aaa4f"
  },
  {
   "metadata": {},
   "cell_type": "markdown",
   "source": "## <div style=\"font-family: 'Lucida Sans Unicode', sans-serif; font-size: 18px; color: #4A235A; background-color: #D7BDE2; text-align: left; padding: 10px; border-left: 5px solid #7D3C98; box-shadow: 0 4px 6px rgba(0, 0, 0, 0.2); margin-bottom: 10px;\">Set up the cache for the experiment</div>",
   "id": "7c2294918930c572"
  },
  {
   "metadata": {
    "collapsed": true,
    "ExecuteTime": {
     "end_time": "2024-08-29T02:36:11.040664Z",
     "start_time": "2024-08-29T02:36:11.018840Z"
    }
   },
   "cell_type": "code",
   "source": "cache = {}",
   "id": "initial_id",
   "outputs": [],
   "execution_count": 2
  },
  {
   "metadata": {},
   "cell_type": "markdown",
   "source": "## <div style=\"font-family: 'Lucida Sans Unicode', sans-serif; font-size: 18px; color: #4A235A; background-color: #D7BDE2; text-align: left; padding: 10px; border-left: 5px solid #7D3C98; box-shadow: 0 4px 6px rgba(0, 0, 0, 0.2); margin-bottom: 10px;\">Same concept as script version here</div>",
   "id": "9c64305289b9fe48"
  },
  {
   "metadata": {
    "ExecuteTime": {
     "end_time": "2024-08-29T02:36:11.227247Z",
     "start_time": "2024-08-29T02:36:11.209191Z"
    }
   },
   "cell_type": "code",
   "source": [
    "BLIP_PRETRAINED_PATH = '../../models/model_base.pth'\n",
    "MED_CONFIG_PATH = '../blip_modules/med_config.json'"
   ],
   "id": "22e5d9c8c2fc4547",
   "outputs": [],
   "execution_count": 3
  },
  {
   "metadata": {
    "ExecuteTime": {
     "end_time": "2024-08-29T02:36:32.320626Z",
     "start_time": "2024-08-29T02:36:11.270618Z"
    }
   },
   "cell_type": "code",
   "source": [
    "blip_text_encoder = BLIPTextEncoder(\n",
    "    BLIP_PRETRAINED_PATH, \n",
    "    MED_CONFIG_PATH,\n",
    "    use_pretrained_proj_layer=True\n",
    ")\n",
    "\n",
    "blip_text_encoder = blip_text_encoder.to(device)\n",
    "print(\"blip text encoder loaded.\")\n",
    "blip_text_encoder.eval()"
   ],
   "id": "94a46a8e90581af4",
   "outputs": [
    {
     "name": "stdout",
     "output_type": "stream",
     "text": [
      "load checkpoint from ../../models/model_base.pth for text_encoder.\n",
      "load checkpoint from ../../models/model_base.pth for text_proj.\n",
      "blip text encoder loaded.\n"
     ]
    },
    {
     "data": {
      "text/plain": [
       "BLIPTextEncoder(\n",
       "  (text_encoder): BertModel(\n",
       "    (embeddings): BertEmbeddings(\n",
       "      (word_embeddings): Embedding(30524, 768, padding_idx=0)\n",
       "      (position_embeddings): Embedding(512, 768)\n",
       "      (LayerNorm): LayerNorm((768,), eps=1e-12, elementwise_affine=True)\n",
       "      (dropout): Dropout(p=0.1, inplace=False)\n",
       "    )\n",
       "    (encoder): BertEncoder(\n",
       "      (layer): ModuleList(\n",
       "        (0-11): 12 x BertLayer(\n",
       "          (attention): BertAttention(\n",
       "            (self): BertSelfAttention(\n",
       "              (query): Linear(in_features=768, out_features=768, bias=True)\n",
       "              (key): Linear(in_features=768, out_features=768, bias=True)\n",
       "              (value): Linear(in_features=768, out_features=768, bias=True)\n",
       "              (dropout): Dropout(p=0.1, inplace=False)\n",
       "            )\n",
       "            (output): BertSelfOutput(\n",
       "              (dense): Linear(in_features=768, out_features=768, bias=True)\n",
       "              (LayerNorm): LayerNorm((768,), eps=1e-12, elementwise_affine=True)\n",
       "              (dropout): Dropout(p=0.1, inplace=False)\n",
       "            )\n",
       "          )\n",
       "          (crossattention): BertAttention(\n",
       "            (self): BertSelfAttention(\n",
       "              (query): Linear(in_features=768, out_features=768, bias=True)\n",
       "              (key): Linear(in_features=768, out_features=768, bias=True)\n",
       "              (value): Linear(in_features=768, out_features=768, bias=True)\n",
       "              (dropout): Dropout(p=0.1, inplace=False)\n",
       "            )\n",
       "            (output): BertSelfOutput(\n",
       "              (dense): Linear(in_features=768, out_features=768, bias=True)\n",
       "              (LayerNorm): LayerNorm((768,), eps=1e-12, elementwise_affine=True)\n",
       "              (dropout): Dropout(p=0.1, inplace=False)\n",
       "            )\n",
       "          )\n",
       "          (intermediate): BertIntermediate(\n",
       "            (dense): Linear(in_features=768, out_features=3072, bias=True)\n",
       "            (intermediate_act_fn): GELUActivation()\n",
       "          )\n",
       "          (output): BertOutput(\n",
       "            (dense): Linear(in_features=3072, out_features=768, bias=True)\n",
       "            (LayerNorm): LayerNorm((768,), eps=1e-12, elementwise_affine=True)\n",
       "            (dropout): Dropout(p=0.1, inplace=False)\n",
       "          )\n",
       "        )\n",
       "      )\n",
       "    )\n",
       "  )\n",
       "  (text_proj): Linear(in_features=768, out_features=256, bias=True)\n",
       ")"
      ]
     },
     "execution_count": 4,
     "metadata": {},
     "output_type": "execute_result"
    }
   ],
   "execution_count": 4
  },
  {
   "metadata": {
    "ExecuteTime": {
     "end_time": "2024-08-29T02:36:42.085615Z",
     "start_time": "2024-08-29T02:36:32.337410Z"
    }
   },
   "cell_type": "code",
   "source": [
    "blip_img_encoder = BLIPImgEncoder(BLIP_PRETRAINED_PATH)\n",
    "blip_img_encoder = blip_img_encoder.to(device)\n",
    "print(\"blip img encoder loaded.\")\n",
    "blip_img_encoder.eval()"
   ],
   "id": "32f7fb2e83ce7d74",
   "outputs": [
    {
     "name": "stdout",
     "output_type": "stream",
     "text": [
      "reshape position embedding from 196 to 576\n",
      "load checkpoint from ../../models/model_base.pth for visual_encoder.\n",
      "load checkpoint from ../../models/model_base.pth for vision_proj.\n",
      "blip img encoder loaded.\n"
     ]
    },
    {
     "data": {
      "text/plain": [
       "BLIPImgEncoder(\n",
       "  (visual_encoder): VisionTransformer(\n",
       "    (patch_embed): PatchEmbed(\n",
       "      (proj): Conv2d(3, 768, kernel_size=(16, 16), stride=(16, 16))\n",
       "      (norm): Identity()\n",
       "    )\n",
       "    (pos_drop): Dropout(p=0.0, inplace=False)\n",
       "    (blocks): ModuleList(\n",
       "      (0-11): 12 x Block(\n",
       "        (norm1): LayerNorm((768,), eps=1e-06, elementwise_affine=True)\n",
       "        (attn): Attention(\n",
       "          (qkv): Linear(in_features=768, out_features=2304, bias=True)\n",
       "          (attn_drop): Dropout(p=0.0, inplace=False)\n",
       "          (proj): Linear(in_features=768, out_features=768, bias=True)\n",
       "          (proj_drop): Dropout(p=0.0, inplace=False)\n",
       "        )\n",
       "        (drop_path): Identity()\n",
       "        (norm2): LayerNorm((768,), eps=1e-06, elementwise_affine=True)\n",
       "        (mlp): Mlp(\n",
       "          (fc1): Linear(in_features=768, out_features=3072, bias=True)\n",
       "          (act): GELU(approximate='none')\n",
       "          (fc2): Linear(in_features=3072, out_features=768, bias=True)\n",
       "          (drop): Dropout(p=0.0, inplace=False)\n",
       "        )\n",
       "      )\n",
       "    )\n",
       "    (norm): LayerNorm((768,), eps=1e-06, elementwise_affine=True)\n",
       "  )\n",
       "  (vision_proj): Linear(in_features=768, out_features=256, bias=True)\n",
       ")"
      ]
     },
     "execution_count": 5,
     "metadata": {},
     "output_type": "execute_result"
    }
   ],
   "execution_count": 5
  },
  {
   "metadata": {
    "ExecuteTime": {
     "end_time": "2024-08-29T02:36:42.157638Z",
     "start_time": "2024-08-29T02:36:42.136571Z"
    }
   },
   "cell_type": "code",
   "source": [
    "print('Target pad preprocess pipeline is used')\n",
    "preprocess = targetpad_transform(1.25, 384)"
   ],
   "id": "54ac20b43a2e8b69",
   "outputs": [
    {
     "name": "stdout",
     "output_type": "stream",
     "text": [
      "Target pad preprocess pipeline is used\n"
     ]
    }
   ],
   "execution_count": 6
  },
  {
   "metadata": {},
   "cell_type": "markdown",
   "source": "# <div style=\"font-family: 'Garamond', serif; font-size: 22px; color: #ffffff; background-color: #34568B; text-align: center; padding: 15px; border-radius: 10px; border: 2px solid #FF6F61; box-shadow: 0 6px 12px rgba(0, 0, 0, 0.3); margin-bottom: 20px;\">Step 2: Load the MLLM generated text captions</div>",
   "id": "75ae5725572a1752"
  },
  {
   "metadata": {},
   "cell_type": "markdown",
   "source": "## <div style=\"font-family: 'Lucida Sans Unicode', sans-serif; font-size: 18px; color: #4A235A; background-color: #D7BDE2; text-align: left; padding: 10px; border-left: 5px solid #7D3C98; box-shadow: 0 4px 6px rgba(0, 0, 0, 0.2); margin-bottom: 10px;\">Load the addition text captions</div>",
   "id": "fb8114bce1dbace0"
  },
  {
   "metadata": {
    "ExecuteTime": {
     "end_time": "2024-08-29T02:36:42.431584Z",
     "start_time": "2024-08-29T02:36:42.194578Z"
    }
   },
   "cell_type": "code",
   "source": [
    "with open('../../fashionIQ_dataset/labeled_images_cir_cleaned.json', 'r') as f:\n",
    "    text_captions = json.load(f)\n",
    "    \n",
    "total_recall_list: List[List[pd.DataFrame]] = []\n",
    "\n",
    "print(f'Total number of text captions: {len(text_captions)}')"
   ],
   "id": "838d0c968d6fcf7a",
   "outputs": [
    {
     "name": "stdout",
     "output_type": "stream",
     "text": [
      "Total number of text captions: 74357\n"
     ]
    }
   ],
   "execution_count": 7
  },
  {
   "metadata": {
    "ExecuteTime": {
     "end_time": "2024-08-29T02:36:42.486978Z",
     "start_time": "2024-08-29T02:36:42.446007Z"
    }
   },
   "cell_type": "code",
   "source": [
    "with open('../../cirr_dataset/cirr_labeled_images_cir_cleaned.json', 'r') as f:\n",
    "    text_captions_cirr = json.load(f)\n",
    "\n",
    "print(f'Total number of text captions: {len(text_captions_cirr)}')"
   ],
   "id": "6dfbcdd9d38306fa",
   "outputs": [
    {
     "name": "stdout",
     "output_type": "stream",
     "text": [
      "Total number of text captions: 4609\n"
     ]
    }
   ],
   "execution_count": 8
  },
  {
   "metadata": {},
   "cell_type": "markdown",
   "source": "# <div style=\"font-family: 'Garamond', serif; font-size: 22px; color: #ffffff; background-color: #34568B; text-align: center; padding: 15px; border-radius: 10px; border: 2px solid #FF6F61; box-shadow: 0 6px 12px rgba(0, 0, 0, 0.3); margin-bottom: 20px;\">Step 3: Perform retrieval on the FashionIQ dataset</div>",
   "id": "99e7660b7fce179"
  },
  {
   "metadata": {},
   "cell_type": "markdown",
   "source": "## <div style=\"font-family: 'Lucida Sans Unicode', sans-serif; font-size: 18px; color: #4A235A; background-color: #D7BDE2; text-align: left; padding: 10px; border-left: 5px solid #7D3C98; box-shadow: 0 4px 6px rgba(0, 0, 0, 0.2); margin-bottom: 10px;\">Perform retrieval on the shirt category</div>",
   "id": "5a8efc43414d05c"
  },
  {
   "metadata": {
    "ExecuteTime": {
     "end_time": "2024-08-29T02:38:36.695826Z",
     "start_time": "2024-08-29T02:36:42.654070Z"
    }
   },
   "cell_type": "code",
   "source": [
    "shirt_recall = fiq_val_retrieval_text_image_combinations(\n",
    "    'shirt',\n",
    "    get_combing_function_with_alpha(0.95),\n",
    "    blip_text_encoder,\n",
    "    blip_img_encoder,\n",
    "    text_captions,\n",
    "    preprocess,\n",
    "    0.2,\n",
    "    cache,\n",
    ")"
   ],
   "id": "a0f1b60d0aecba10",
   "outputs": [
    {
     "name": "stderr",
     "output_type": "stream",
     "text": [
      "Evaluating feature combinations: 100%|██████████| 7/7 [00:21<00:00,  3.14s/it]\n"
     ]
    }
   ],
   "execution_count": 9
  },
  {
   "metadata": {
    "ExecuteTime": {
     "end_time": "2024-08-29T02:38:36.748186Z",
     "start_time": "2024-08-29T02:38:36.721759Z"
    }
   },
   "cell_type": "code",
   "source": "shirt_recall",
   "id": "96b511edd8178b1d",
   "outputs": [
    {
     "data": {
      "text/plain": [
       "   beta  recall_at10  recall_at50           Combination\n",
       "0   0.2    22.522080    36.457312             First set\n",
       "1   0.2    21.687929    35.525024            Second set\n",
       "2   0.2    22.571148    35.672227             Third set\n",
       "3   0.2    22.816487    37.095192  First and second set\n",
       "4   0.2    22.669284    36.261040  Second and third set\n",
       "5   0.2    23.110893    36.800784   First and third set\n",
       "6   0.2    23.159961    36.997056              All sets"
      ],
      "text/html": [
       "<div>\n",
       "<style scoped>\n",
       "    .dataframe tbody tr th:only-of-type {\n",
       "        vertical-align: middle;\n",
       "    }\n",
       "\n",
       "    .dataframe tbody tr th {\n",
       "        vertical-align: top;\n",
       "    }\n",
       "\n",
       "    .dataframe thead th {\n",
       "        text-align: right;\n",
       "    }\n",
       "</style>\n",
       "<table border=\"1\" class=\"dataframe\">\n",
       "  <thead>\n",
       "    <tr style=\"text-align: right;\">\n",
       "      <th></th>\n",
       "      <th>beta</th>\n",
       "      <th>recall_at10</th>\n",
       "      <th>recall_at50</th>\n",
       "      <th>Combination</th>\n",
       "    </tr>\n",
       "  </thead>\n",
       "  <tbody>\n",
       "    <tr>\n",
       "      <th>0</th>\n",
       "      <td>0.2</td>\n",
       "      <td>22.522080</td>\n",
       "      <td>36.457312</td>\n",
       "      <td>First set</td>\n",
       "    </tr>\n",
       "    <tr>\n",
       "      <th>1</th>\n",
       "      <td>0.2</td>\n",
       "      <td>21.687929</td>\n",
       "      <td>35.525024</td>\n",
       "      <td>Second set</td>\n",
       "    </tr>\n",
       "    <tr>\n",
       "      <th>2</th>\n",
       "      <td>0.2</td>\n",
       "      <td>22.571148</td>\n",
       "      <td>35.672227</td>\n",
       "      <td>Third set</td>\n",
       "    </tr>\n",
       "    <tr>\n",
       "      <th>3</th>\n",
       "      <td>0.2</td>\n",
       "      <td>22.816487</td>\n",
       "      <td>37.095192</td>\n",
       "      <td>First and second set</td>\n",
       "    </tr>\n",
       "    <tr>\n",
       "      <th>4</th>\n",
       "      <td>0.2</td>\n",
       "      <td>22.669284</td>\n",
       "      <td>36.261040</td>\n",
       "      <td>Second and third set</td>\n",
       "    </tr>\n",
       "    <tr>\n",
       "      <th>5</th>\n",
       "      <td>0.2</td>\n",
       "      <td>23.110893</td>\n",
       "      <td>36.800784</td>\n",
       "      <td>First and third set</td>\n",
       "    </tr>\n",
       "    <tr>\n",
       "      <th>6</th>\n",
       "      <td>0.2</td>\n",
       "      <td>23.159961</td>\n",
       "      <td>36.997056</td>\n",
       "      <td>All sets</td>\n",
       "    </tr>\n",
       "  </tbody>\n",
       "</table>\n",
       "</div>"
      ]
     },
     "execution_count": 10,
     "metadata": {},
     "output_type": "execute_result"
    }
   ],
   "execution_count": 10
  },
  {
   "metadata": {},
   "cell_type": "markdown",
   "source": "## <div style=\"font-family: 'Lucida Sans Unicode', sans-serif; font-size: 18px; color: #4A235A; background-color: #D7BDE2; text-align: left; padding: 10px; border-left: 5px solid #7D3C98; box-shadow: 0 4px 6px rgba(0, 0, 0, 0.2); margin-bottom: 10px;\">Perform retrieval on the dress category</div>",
   "id": "d4ab21021db7064b"
  },
  {
   "metadata": {
    "ExecuteTime": {
     "end_time": "2024-08-29T02:39:54.999594Z",
     "start_time": "2024-08-29T02:38:36.831974Z"
    }
   },
   "cell_type": "code",
   "source": [
    "dress_recall = fiq_val_retrieval_text_image_combinations(\n",
    "    'dress',\n",
    "    get_combing_function_with_alpha(0.95),\n",
    "    blip_text_encoder,\n",
    "    blip_img_encoder,\n",
    "    text_captions,\n",
    "    preprocess,\n",
    "    0.2,\n",
    "    cache,\n",
    ")"
   ],
   "id": "a59ce3e3360ce5e6",
   "outputs": [
    {
     "name": "stderr",
     "output_type": "stream",
     "text": [
      "Evaluating feature combinations: 100%|██████████| 7/7 [00:22<00:00,  3.15s/it]\n"
     ]
    }
   ],
   "execution_count": 11
  },
  {
   "metadata": {
    "ExecuteTime": {
     "end_time": "2024-08-29T02:39:55.058800Z",
     "start_time": "2024-08-29T02:39:55.035696Z"
    }
   },
   "cell_type": "code",
   "source": "dress_recall",
   "id": "1813a1e5d3d6cd2c",
   "outputs": [
    {
     "data": {
      "text/plain": [
       "   beta  recall_at10  recall_at50           Combination\n",
       "0   0.2    20.327219    38.076350             First set\n",
       "1   0.2    18.889439    37.233517            Second set\n",
       "2   0.2    18.641546    35.448685             Third set\n",
       "3   0.2    20.525533    38.572136  First and second set\n",
       "4   0.2    19.732276    37.332672  Second and third set\n",
       "5   0.2    20.079325    37.729302   First and third set\n",
       "6   0.2    20.475954    38.621715              All sets"
      ],
      "text/html": [
       "<div>\n",
       "<style scoped>\n",
       "    .dataframe tbody tr th:only-of-type {\n",
       "        vertical-align: middle;\n",
       "    }\n",
       "\n",
       "    .dataframe tbody tr th {\n",
       "        vertical-align: top;\n",
       "    }\n",
       "\n",
       "    .dataframe thead th {\n",
       "        text-align: right;\n",
       "    }\n",
       "</style>\n",
       "<table border=\"1\" class=\"dataframe\">\n",
       "  <thead>\n",
       "    <tr style=\"text-align: right;\">\n",
       "      <th></th>\n",
       "      <th>beta</th>\n",
       "      <th>recall_at10</th>\n",
       "      <th>recall_at50</th>\n",
       "      <th>Combination</th>\n",
       "    </tr>\n",
       "  </thead>\n",
       "  <tbody>\n",
       "    <tr>\n",
       "      <th>0</th>\n",
       "      <td>0.2</td>\n",
       "      <td>20.327219</td>\n",
       "      <td>38.076350</td>\n",
       "      <td>First set</td>\n",
       "    </tr>\n",
       "    <tr>\n",
       "      <th>1</th>\n",
       "      <td>0.2</td>\n",
       "      <td>18.889439</td>\n",
       "      <td>37.233517</td>\n",
       "      <td>Second set</td>\n",
       "    </tr>\n",
       "    <tr>\n",
       "      <th>2</th>\n",
       "      <td>0.2</td>\n",
       "      <td>18.641546</td>\n",
       "      <td>35.448685</td>\n",
       "      <td>Third set</td>\n",
       "    </tr>\n",
       "    <tr>\n",
       "      <th>3</th>\n",
       "      <td>0.2</td>\n",
       "      <td>20.525533</td>\n",
       "      <td>38.572136</td>\n",
       "      <td>First and second set</td>\n",
       "    </tr>\n",
       "    <tr>\n",
       "      <th>4</th>\n",
       "      <td>0.2</td>\n",
       "      <td>19.732276</td>\n",
       "      <td>37.332672</td>\n",
       "      <td>Second and third set</td>\n",
       "    </tr>\n",
       "    <tr>\n",
       "      <th>5</th>\n",
       "      <td>0.2</td>\n",
       "      <td>20.079325</td>\n",
       "      <td>37.729302</td>\n",
       "      <td>First and third set</td>\n",
       "    </tr>\n",
       "    <tr>\n",
       "      <th>6</th>\n",
       "      <td>0.2</td>\n",
       "      <td>20.475954</td>\n",
       "      <td>38.621715</td>\n",
       "      <td>All sets</td>\n",
       "    </tr>\n",
       "  </tbody>\n",
       "</table>\n",
       "</div>"
      ]
     },
     "execution_count": 12,
     "metadata": {},
     "output_type": "execute_result"
    }
   ],
   "execution_count": 12
  },
  {
   "metadata": {},
   "cell_type": "markdown",
   "source": "## <div style=\"font-family: 'Lucida Sans Unicode', sans-serif; font-size: 18px; color: #4A235A; background-color: #D7BDE2; text-align: left; padding: 10px; border-left: 5px solid #7D3C98; box-shadow: 0 4px 6px rgba(0, 0, 0, 0.2); margin-bottom: 10px;\">Perform retrieval on the toptee category</div>",
   "id": "f912a96497bb2a63"
  },
  {
   "metadata": {
    "ExecuteTime": {
     "end_time": "2024-08-29T02:41:39.847464Z",
     "start_time": "2024-08-29T02:39:55.246750Z"
    }
   },
   "cell_type": "code",
   "source": [
    "toptee_recall = fiq_val_retrieval_text_image_combinations(\n",
    "    'toptee',\n",
    "    get_combing_function_with_alpha(0.95),\n",
    "    blip_text_encoder,\n",
    "    blip_img_encoder,\n",
    "    text_captions,\n",
    "    preprocess,\n",
    "    0.2,\n",
    "    cache,\n",
    ")"
   ],
   "id": "b705129d0dd555ee",
   "outputs": [
    {
     "name": "stderr",
     "output_type": "stream",
     "text": [
      "Evaluating feature combinations: 100%|██████████| 7/7 [00:23<00:00,  3.30s/it]\n"
     ]
    }
   ],
   "execution_count": 13
  },
  {
   "metadata": {
    "ExecuteTime": {
     "end_time": "2024-08-29T02:41:39.934713Z",
     "start_time": "2024-08-29T02:41:39.908150Z"
    }
   },
   "cell_type": "code",
   "source": "toptee_recall",
   "id": "dda4e0a6e1f697fd",
   "outputs": [
    {
     "data": {
      "text/plain": [
       "   beta  recall_at10  recall_at50           Combination\n",
       "0   0.2    24.579297    46.098930             First set\n",
       "1   0.2    23.406425    45.690975            Second set\n",
       "2   0.2    24.987252    45.283020             Third set\n",
       "3   0.2    25.038245    46.812850  First and second set\n",
       "4   0.2    24.783275    46.863845  Second and third set\n",
       "5   0.2    25.650179    46.965834   First and third set\n",
       "6   0.2    25.140235    47.373790              All sets"
      ],
      "text/html": [
       "<div>\n",
       "<style scoped>\n",
       "    .dataframe tbody tr th:only-of-type {\n",
       "        vertical-align: middle;\n",
       "    }\n",
       "\n",
       "    .dataframe tbody tr th {\n",
       "        vertical-align: top;\n",
       "    }\n",
       "\n",
       "    .dataframe thead th {\n",
       "        text-align: right;\n",
       "    }\n",
       "</style>\n",
       "<table border=\"1\" class=\"dataframe\">\n",
       "  <thead>\n",
       "    <tr style=\"text-align: right;\">\n",
       "      <th></th>\n",
       "      <th>beta</th>\n",
       "      <th>recall_at10</th>\n",
       "      <th>recall_at50</th>\n",
       "      <th>Combination</th>\n",
       "    </tr>\n",
       "  </thead>\n",
       "  <tbody>\n",
       "    <tr>\n",
       "      <th>0</th>\n",
       "      <td>0.2</td>\n",
       "      <td>24.579297</td>\n",
       "      <td>46.098930</td>\n",
       "      <td>First set</td>\n",
       "    </tr>\n",
       "    <tr>\n",
       "      <th>1</th>\n",
       "      <td>0.2</td>\n",
       "      <td>23.406425</td>\n",
       "      <td>45.690975</td>\n",
       "      <td>Second set</td>\n",
       "    </tr>\n",
       "    <tr>\n",
       "      <th>2</th>\n",
       "      <td>0.2</td>\n",
       "      <td>24.987252</td>\n",
       "      <td>45.283020</td>\n",
       "      <td>Third set</td>\n",
       "    </tr>\n",
       "    <tr>\n",
       "      <th>3</th>\n",
       "      <td>0.2</td>\n",
       "      <td>25.038245</td>\n",
       "      <td>46.812850</td>\n",
       "      <td>First and second set</td>\n",
       "    </tr>\n",
       "    <tr>\n",
       "      <th>4</th>\n",
       "      <td>0.2</td>\n",
       "      <td>24.783275</td>\n",
       "      <td>46.863845</td>\n",
       "      <td>Second and third set</td>\n",
       "    </tr>\n",
       "    <tr>\n",
       "      <th>5</th>\n",
       "      <td>0.2</td>\n",
       "      <td>25.650179</td>\n",
       "      <td>46.965834</td>\n",
       "      <td>First and third set</td>\n",
       "    </tr>\n",
       "    <tr>\n",
       "      <th>6</th>\n",
       "      <td>0.2</td>\n",
       "      <td>25.140235</td>\n",
       "      <td>47.373790</td>\n",
       "      <td>All sets</td>\n",
       "    </tr>\n",
       "  </tbody>\n",
       "</table>\n",
       "</div>"
      ]
     },
     "execution_count": 14,
     "metadata": {},
     "output_type": "execute_result"
    }
   ],
   "execution_count": 14
  },
  {
   "metadata": {
    "ExecuteTime": {
     "end_time": "2024-08-29T02:41:40.078653Z",
     "start_time": "2024-08-29T02:41:40.051652Z"
    }
   },
   "cell_type": "code",
   "source": [
    "# Change the index to 'Combination' column\n",
    "shirt_recall.set_index('Combination', inplace=True)\n",
    "dress_recall.set_index('Combination', inplace=True)\n",
    "toptee_recall.set_index('Combination', inplace=True)"
   ],
   "id": "12cef5a9d541bbde",
   "outputs": [],
   "execution_count": 15
  },
  {
   "metadata": {
    "ExecuteTime": {
     "end_time": "2024-08-29T02:41:40.262885Z",
     "start_time": "2024-08-29T02:41:40.236256Z"
    }
   },
   "cell_type": "code",
   "source": [
    "# Average the recall values\n",
    "average_recall = (shirt_recall + dress_recall + toptee_recall) / 3\n",
    "average_recall"
   ],
   "id": "7c4aead0e821fbf",
   "outputs": [
    {
     "data": {
      "text/plain": [
       "                      beta  recall_at10  recall_at50\n",
       "Combination                                         \n",
       "First set              0.2    22.476199    40.210864\n",
       "Second set             0.2    21.327931    39.483172\n",
       "Third set              0.2    22.066649    38.801310\n",
       "First and second set   0.2    22.793422    40.826726\n",
       "Second and third set   0.2    22.394945    40.152519\n",
       "First and third set    0.2    22.946799    40.498640\n",
       "All sets               0.2    22.925383    40.997520"
      ],
      "text/html": [
       "<div>\n",
       "<style scoped>\n",
       "    .dataframe tbody tr th:only-of-type {\n",
       "        vertical-align: middle;\n",
       "    }\n",
       "\n",
       "    .dataframe tbody tr th {\n",
       "        vertical-align: top;\n",
       "    }\n",
       "\n",
       "    .dataframe thead th {\n",
       "        text-align: right;\n",
       "    }\n",
       "</style>\n",
       "<table border=\"1\" class=\"dataframe\">\n",
       "  <thead>\n",
       "    <tr style=\"text-align: right;\">\n",
       "      <th></th>\n",
       "      <th>beta</th>\n",
       "      <th>recall_at10</th>\n",
       "      <th>recall_at50</th>\n",
       "    </tr>\n",
       "    <tr>\n",
       "      <th>Combination</th>\n",
       "      <th></th>\n",
       "      <th></th>\n",
       "      <th></th>\n",
       "    </tr>\n",
       "  </thead>\n",
       "  <tbody>\n",
       "    <tr>\n",
       "      <th>First set</th>\n",
       "      <td>0.2</td>\n",
       "      <td>22.476199</td>\n",
       "      <td>40.210864</td>\n",
       "    </tr>\n",
       "    <tr>\n",
       "      <th>Second set</th>\n",
       "      <td>0.2</td>\n",
       "      <td>21.327931</td>\n",
       "      <td>39.483172</td>\n",
       "    </tr>\n",
       "    <tr>\n",
       "      <th>Third set</th>\n",
       "      <td>0.2</td>\n",
       "      <td>22.066649</td>\n",
       "      <td>38.801310</td>\n",
       "    </tr>\n",
       "    <tr>\n",
       "      <th>First and second set</th>\n",
       "      <td>0.2</td>\n",
       "      <td>22.793422</td>\n",
       "      <td>40.826726</td>\n",
       "    </tr>\n",
       "    <tr>\n",
       "      <th>Second and third set</th>\n",
       "      <td>0.2</td>\n",
       "      <td>22.394945</td>\n",
       "      <td>40.152519</td>\n",
       "    </tr>\n",
       "    <tr>\n",
       "      <th>First and third set</th>\n",
       "      <td>0.2</td>\n",
       "      <td>22.946799</td>\n",
       "      <td>40.498640</td>\n",
       "    </tr>\n",
       "    <tr>\n",
       "      <th>All sets</th>\n",
       "      <td>0.2</td>\n",
       "      <td>22.925383</td>\n",
       "      <td>40.997520</td>\n",
       "    </tr>\n",
       "  </tbody>\n",
       "</table>\n",
       "</div>"
      ]
     },
     "execution_count": 16,
     "metadata": {},
     "output_type": "execute_result"
    }
   ],
   "execution_count": 16
  },
  {
   "metadata": {},
   "cell_type": "markdown",
   "source": "# <div style=\"font-family: 'Garamond', serif; font-size: 22px; color: #ffffff; background-color: #34568B; text-align: center; padding: 15px; border-radius: 10px; border: 2px solid #FF6F61; box-shadow: 0 6px 12px rgba(0, 0, 0, 0.3); margin-bottom: 20px;\">Step 3: Perform retrieval on the CIRR dataset</div>",
   "id": "9a1f93f4c0baffbd"
  },
  {
   "metadata": {
    "ExecuteTime": {
     "end_time": "2024-08-29T02:43:17.817121Z",
     "start_time": "2024-08-29T02:41:40.401705Z"
    }
   },
   "cell_type": "code",
   "source": [
    "cirr_recall = cirr_val_retrieval_text_image_combinations(\n",
    "    get_combing_function_with_alpha(0.95),\n",
    "    blip_text_encoder,\n",
    "    blip_img_encoder,\n",
    "    text_captions_cirr,\n",
    "    preprocess,\n",
    "    0.2,\n",
    "    cache,\n",
    ")"
   ],
   "id": "72f821a5bb798988",
   "outputs": [
    {
     "name": "stderr",
     "output_type": "stream",
     "text": [
      "Evaluating feature combinations: 100%|██████████| 7/7 [00:49<00:00,  7.11s/it]\n"
     ]
    }
   ],
   "execution_count": 17
  },
  {
   "metadata": {
    "ExecuteTime": {
     "end_time": "2024-08-29T02:43:17.879015Z",
     "start_time": "2024-08-29T02:43:17.855124Z"
    }
   },
   "cell_type": "code",
   "source": "cirr_recall",
   "id": "7032001d08c052d1",
   "outputs": [
    {
     "data": {
      "text/plain": [
       "   beta  recall_at1  recall_at5  recall_at10  recall_at50  group_recall_at1  \\\n",
       "0   0.2   25.568047   52.786416    66.515189    86.319065         56.756759   \n",
       "1   0.2   24.730925   52.858168    65.606314    85.840708         56.995934   \n",
       "2   0.2   24.611337   53.049511    65.319300    86.079884         56.230569   \n",
       "3   0.2   25.257117   53.527862    66.371679    86.079884         56.948102   \n",
       "4   0.2   24.850515   52.858168    66.108584    86.127722         56.613249   \n",
       "5   0.2   25.639799   53.049511    66.395599    86.342978         57.091606   \n",
       "6   0.2   25.448456   53.647453    66.539103    86.319065         57.019854   \n",
       "\n",
       "   group_recall_at2  group_recall_at3           Combination  \n",
       "0         77.397752         88.495576             First set  \n",
       "1         76.560634         88.878256            Second set  \n",
       "2         77.493423         88.423824             Third set  \n",
       "3         77.278161         88.782591  First and second set  \n",
       "4         77.230328         88.950014  Second and third set  \n",
       "5         77.541256         88.543409   First and third set  \n",
       "6         77.493423         88.519496              All sets  "
      ],
      "text/html": [
       "<div>\n",
       "<style scoped>\n",
       "    .dataframe tbody tr th:only-of-type {\n",
       "        vertical-align: middle;\n",
       "    }\n",
       "\n",
       "    .dataframe tbody tr th {\n",
       "        vertical-align: top;\n",
       "    }\n",
       "\n",
       "    .dataframe thead th {\n",
       "        text-align: right;\n",
       "    }\n",
       "</style>\n",
       "<table border=\"1\" class=\"dataframe\">\n",
       "  <thead>\n",
       "    <tr style=\"text-align: right;\">\n",
       "      <th></th>\n",
       "      <th>beta</th>\n",
       "      <th>recall_at1</th>\n",
       "      <th>recall_at5</th>\n",
       "      <th>recall_at10</th>\n",
       "      <th>recall_at50</th>\n",
       "      <th>group_recall_at1</th>\n",
       "      <th>group_recall_at2</th>\n",
       "      <th>group_recall_at3</th>\n",
       "      <th>Combination</th>\n",
       "    </tr>\n",
       "  </thead>\n",
       "  <tbody>\n",
       "    <tr>\n",
       "      <th>0</th>\n",
       "      <td>0.2</td>\n",
       "      <td>25.568047</td>\n",
       "      <td>52.786416</td>\n",
       "      <td>66.515189</td>\n",
       "      <td>86.319065</td>\n",
       "      <td>56.756759</td>\n",
       "      <td>77.397752</td>\n",
       "      <td>88.495576</td>\n",
       "      <td>First set</td>\n",
       "    </tr>\n",
       "    <tr>\n",
       "      <th>1</th>\n",
       "      <td>0.2</td>\n",
       "      <td>24.730925</td>\n",
       "      <td>52.858168</td>\n",
       "      <td>65.606314</td>\n",
       "      <td>85.840708</td>\n",
       "      <td>56.995934</td>\n",
       "      <td>76.560634</td>\n",
       "      <td>88.878256</td>\n",
       "      <td>Second set</td>\n",
       "    </tr>\n",
       "    <tr>\n",
       "      <th>2</th>\n",
       "      <td>0.2</td>\n",
       "      <td>24.611337</td>\n",
       "      <td>53.049511</td>\n",
       "      <td>65.319300</td>\n",
       "      <td>86.079884</td>\n",
       "      <td>56.230569</td>\n",
       "      <td>77.493423</td>\n",
       "      <td>88.423824</td>\n",
       "      <td>Third set</td>\n",
       "    </tr>\n",
       "    <tr>\n",
       "      <th>3</th>\n",
       "      <td>0.2</td>\n",
       "      <td>25.257117</td>\n",
       "      <td>53.527862</td>\n",
       "      <td>66.371679</td>\n",
       "      <td>86.079884</td>\n",
       "      <td>56.948102</td>\n",
       "      <td>77.278161</td>\n",
       "      <td>88.782591</td>\n",
       "      <td>First and second set</td>\n",
       "    </tr>\n",
       "    <tr>\n",
       "      <th>4</th>\n",
       "      <td>0.2</td>\n",
       "      <td>24.850515</td>\n",
       "      <td>52.858168</td>\n",
       "      <td>66.108584</td>\n",
       "      <td>86.127722</td>\n",
       "      <td>56.613249</td>\n",
       "      <td>77.230328</td>\n",
       "      <td>88.950014</td>\n",
       "      <td>Second and third set</td>\n",
       "    </tr>\n",
       "    <tr>\n",
       "      <th>5</th>\n",
       "      <td>0.2</td>\n",
       "      <td>25.639799</td>\n",
       "      <td>53.049511</td>\n",
       "      <td>66.395599</td>\n",
       "      <td>86.342978</td>\n",
       "      <td>57.091606</td>\n",
       "      <td>77.541256</td>\n",
       "      <td>88.543409</td>\n",
       "      <td>First and third set</td>\n",
       "    </tr>\n",
       "    <tr>\n",
       "      <th>6</th>\n",
       "      <td>0.2</td>\n",
       "      <td>25.448456</td>\n",
       "      <td>53.647453</td>\n",
       "      <td>66.539103</td>\n",
       "      <td>86.319065</td>\n",
       "      <td>57.019854</td>\n",
       "      <td>77.493423</td>\n",
       "      <td>88.519496</td>\n",
       "      <td>All sets</td>\n",
       "    </tr>\n",
       "  </tbody>\n",
       "</table>\n",
       "</div>"
      ]
     },
     "execution_count": 18,
     "metadata": {},
     "output_type": "execute_result"
    }
   ],
   "execution_count": 18
  }
 ],
 "metadata": {
  "kernelspec": {
   "display_name": "Python 3",
   "language": "python",
   "name": "python3"
  },
  "language_info": {
   "codemirror_mode": {
    "name": "ipython",
    "version": 2
   },
   "file_extension": ".py",
   "mimetype": "text/x-python",
   "name": "python",
   "nbconvert_exporter": "python",
   "pygments_lexer": "ipython2",
   "version": "2.7.6"
  }
 },
 "nbformat": 4,
 "nbformat_minor": 5
}
